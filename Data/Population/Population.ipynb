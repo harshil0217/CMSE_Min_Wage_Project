{
 "cells": [
  {
   "cell_type": "code",
   "execution_count": 9,
   "id": "a9a3d823",
   "metadata": {},
   "outputs": [],
   "source": [
    "import pandas as pd\n",
    "import numpy as np\n",
    "import requests"
   ]
  },
  {
   "cell_type": "code",
   "execution_count": null,
   "id": "0f2f825c",
   "metadata": {},
   "outputs": [],
   "source": [
    "#Data sourced from Census API"
   ]
  },
  {
   "cell_type": "code",
   "execution_count": 49,
   "id": "b623eda3",
   "metadata": {},
   "outputs": [],
   "source": [
    "host = 'https://api.census.gov/data'\n",
    "year = '/2015'\n",
    "dataset_acronym = '/acs/acs1'\n",
    "g = '?get='\n",
    "variables = 'NAME,B02001_001E'\n",
    "location = '&for=state:*&key='\n",
    "usr_key = \"0d20bc54b2f22dccdd48690f3ef9c523a9b7da70\"\n",
    "query_url = f\"{host}{year}{dataset_acronym}{g}{variables}{location}{usr_key}\"\n",
    "response = requests.get(query_url)\n",
    "contents = response.text"
   ]
  },
  {
   "cell_type": "code",
   "execution_count": 50,
   "id": "d9d0f3f8",
   "metadata": {},
   "outputs": [
    {
     "data": {
      "text/plain": [
       "'[[\"NAME\",\"B02001_001E\",\"state\"],\\n[\"Mississippi\",\"2992333\",\"28\"],\\n[\"Missouri\",\"6083672\",\"29\"],\\n[\"Montana\",\"1032949\",\"30\"],\\n[\"Nebraska\",\"1896190\",\"31\"],\\n[\"Nevada\",\"2890845\",\"32\"],\\n[\"New Hampshire\",\"1330608\",\"33\"],\\n[\"New Jersey\",\"8958013\",\"34\"],\\n[\"New Mexico\",\"2085109\",\"35\"],\\n[\"New York\",\"19795791\",\"36\"],\\n[\"North Carolina\",\"10042802\",\"37\"],\\n[\"North Dakota\",\"756928\",\"38\"],\\n[\"Ohio\",\"11613423\",\"39\"],\\n[\"Oklahoma\",\"3911338\",\"40\"],\\n[\"Oregon\",\"4028977\",\"41\"],\\n[\"Pennsylvania\",\"12802503\",\"42\"],\\n[\"Rhode Island\",\"1056298\",\"44\"],\\n[\"South Carolina\",\"4896146\",\"45\"],\\n[\"South Dakota\",\"858469\",\"46\"],\\n[\"Tennessee\",\"6600299\",\"47\"],\\n[\"Texas\",\"27469114\",\"48\"],\\n[\"Vermont\",\"626042\",\"50\"],\\n[\"Utah\",\"2995919\",\"49\"],\\n[\"Virginia\",\"8382993\",\"51\"],\\n[\"Washington\",\"7170351\",\"53\"],\\n[\"West Virginia\",\"1844128\",\"54\"],\\n[\"Wisconsin\",\"5771337\",\"55\"],\\n[\"Wyoming\",\"586107\",\"56\"],\\n[\"Puerto Rico\",\"3474182\",\"72\"],\\n[\"Alabama\",\"4858979\",\"01\"],\\n[\"Alaska\",\"738432\",\"02\"],\\n[\"Arizona\",\"6828065\",\"04\"],\\n[\"Arkansas\",\"2978204\",\"05\"],\\n[\"California\",\"39144818\",\"06\"],\\n[\"Colorado\",\"5456574\",\"08\"],\\n[\"Delaware\",\"945934\",\"10\"],\\n[\"District of Columbia\",\"672228\",\"11\"],\\n[\"Connecticut\",\"3590886\",\"09\"],\\n[\"Florida\",\"20271272\",\"12\"],\\n[\"Georgia\",\"10214860\",\"13\"],\\n[\"Idaho\",\"1654930\",\"16\"],\\n[\"Hawaii\",\"1431603\",\"15\"],\\n[\"Illinois\",\"12859995\",\"17\"],\\n[\"Indiana\",\"6619680\",\"18\"],\\n[\"Iowa\",\"3123899\",\"19\"],\\n[\"Kansas\",\"2911641\",\"20\"],\\n[\"Kentucky\",\"4425092\",\"21\"],\\n[\"Louisiana\",\"4670724\",\"22\"],\\n[\"Maine\",\"1329328\",\"23\"],\\n[\"Maryland\",\"6006401\",\"24\"],\\n[\"Massachusetts\",\"6794422\",\"25\"],\\n[\"Michigan\",\"9922576\",\"26\"],\\n[\"Minnesota\",\"5489594\",\"27\"]]'"
      ]
     },
     "execution_count": 50,
     "metadata": {},
     "output_type": "execute_result"
    }
   ],
   "source": [
    "contents"
   ]
  },
  {
   "cell_type": "code",
   "execution_count": 51,
   "id": "6201b8c3",
   "metadata": {},
   "outputs": [],
   "source": [
    "def create_pop():\n",
    "    years = [\"/2011\", \"/2012\", \"/2013\", \"/2014\", \"/2015\", \"/2016\", \"/2017\", \"/2018\", \"/2019\", \"/2021\", \n",
    "             \"/2022\"]\n",
    "    year = \"/2010\"\n",
    "    query_url = f\"{host}{year}{dataset_acronym}{g}{variables}{location}{usr_key}\"\n",
    "    response = requests.get(query_url)\n",
    "    contents = response.text\n",
    "    pop = pd.read_json(contents)\n",
    "    year_col = np.full(len(pop), year[1:])\n",
    "    year_col = pd.DataFrame(year_col)\n",
    "    pop = pd.concat([pop, year_col], axis = 1)\n",
    "    pop.columns = [\"State\",\"Population\",\"state\", \"Year\"]\n",
    "    pop = pop[pop[\"State\"] != \"Puerto Rico\"]\n",
    "    pop = pop[pop[\"State\"] != \"District of Columbia\"]\n",
    "    for year in years:\n",
    "        query_url = f\"{host}{year}{dataset_acronym}{g}{variables}{location}{usr_key}\"\n",
    "        response = requests.get(query_url)\n",
    "        contents = response.text\n",
    "        temp = pd.read_json(contents)\n",
    "        year_col = np.full(len(temp), year[1:])\n",
    "        year_col = pd.DataFrame(year_col)\n",
    "        temp = pd.concat([temp, year_col], axis = 1)\n",
    "        temp.columns = [\"State\",\"Population\",\"state\", \"Year\"]\n",
    "        temp = temp.sort_values(\"State\")\n",
    "        temp = temp[temp[\"State\"] != \"District of Columbia\"]\n",
    "        temp = temp[temp[\"State\"] != \"Puerto Rico\"]\n",
    "        pop = pd.concat([pop, temp])\n",
    "    return pop"
   ]
  },
  {
   "cell_type": "code",
   "execution_count": 52,
   "id": "3382cd45",
   "metadata": {},
   "outputs": [],
   "source": [
    "pop = create_pop()"
   ]
  },
  {
   "cell_type": "code",
   "execution_count": 53,
   "id": "e682ecdb",
   "metadata": {},
   "outputs": [
    {
     "data": {
      "text/html": [
       "<div>\n",
       "<style scoped>\n",
       "    .dataframe tbody tr th:only-of-type {\n",
       "        vertical-align: middle;\n",
       "    }\n",
       "\n",
       "    .dataframe tbody tr th {\n",
       "        vertical-align: top;\n",
       "    }\n",
       "\n",
       "    .dataframe thead th {\n",
       "        text-align: right;\n",
       "    }\n",
       "</style>\n",
       "<table border=\"1\" class=\"dataframe\">\n",
       "  <thead>\n",
       "    <tr style=\"text-align: right;\">\n",
       "      <th></th>\n",
       "      <th>State</th>\n",
       "      <th>Population</th>\n",
       "      <th>state</th>\n",
       "      <th>Year</th>\n",
       "    </tr>\n",
       "  </thead>\n",
       "  <tbody>\n",
       "    <tr>\n",
       "      <th>0</th>\n",
       "      <td>NAME</td>\n",
       "      <td>B02001_001E</td>\n",
       "      <td>state</td>\n",
       "      <td>2010</td>\n",
       "    </tr>\n",
       "    <tr>\n",
       "      <th>1</th>\n",
       "      <td>Alabama</td>\n",
       "      <td>4785298</td>\n",
       "      <td>01</td>\n",
       "      <td>2010</td>\n",
       "    </tr>\n",
       "    <tr>\n",
       "      <th>2</th>\n",
       "      <td>Alaska</td>\n",
       "      <td>713985</td>\n",
       "      <td>02</td>\n",
       "      <td>2010</td>\n",
       "    </tr>\n",
       "    <tr>\n",
       "      <th>3</th>\n",
       "      <td>Arizona</td>\n",
       "      <td>6413737</td>\n",
       "      <td>04</td>\n",
       "      <td>2010</td>\n",
       "    </tr>\n",
       "    <tr>\n",
       "      <th>4</th>\n",
       "      <td>Arkansas</td>\n",
       "      <td>2921606</td>\n",
       "      <td>05</td>\n",
       "      <td>2010</td>\n",
       "    </tr>\n",
       "    <tr>\n",
       "      <th>...</th>\n",
       "      <td>...</td>\n",
       "      <td>...</td>\n",
       "      <td>...</td>\n",
       "      <td>...</td>\n",
       "    </tr>\n",
       "    <tr>\n",
       "      <th>47</th>\n",
       "      <td>Virginia</td>\n",
       "      <td>8683619</td>\n",
       "      <td>51</td>\n",
       "      <td>2022</td>\n",
       "    </tr>\n",
       "    <tr>\n",
       "      <th>48</th>\n",
       "      <td>Washington</td>\n",
       "      <td>7785786</td>\n",
       "      <td>53</td>\n",
       "      <td>2022</td>\n",
       "    </tr>\n",
       "    <tr>\n",
       "      <th>49</th>\n",
       "      <td>West Virginia</td>\n",
       "      <td>1775156</td>\n",
       "      <td>54</td>\n",
       "      <td>2022</td>\n",
       "    </tr>\n",
       "    <tr>\n",
       "      <th>50</th>\n",
       "      <td>Wisconsin</td>\n",
       "      <td>5892539</td>\n",
       "      <td>55</td>\n",
       "      <td>2022</td>\n",
       "    </tr>\n",
       "    <tr>\n",
       "      <th>51</th>\n",
       "      <td>Wyoming</td>\n",
       "      <td>581381</td>\n",
       "      <td>56</td>\n",
       "      <td>2022</td>\n",
       "    </tr>\n",
       "  </tbody>\n",
       "</table>\n",
       "<p>612 rows × 4 columns</p>\n",
       "</div>"
      ],
      "text/plain": [
       "            State   Population  state  Year\n",
       "0            NAME  B02001_001E  state  2010\n",
       "1         Alabama      4785298     01  2010\n",
       "2          Alaska       713985     02  2010\n",
       "3         Arizona      6413737     04  2010\n",
       "4        Arkansas      2921606     05  2010\n",
       "..            ...          ...    ...   ...\n",
       "47       Virginia      8683619     51  2022\n",
       "48     Washington      7785786     53  2022\n",
       "49  West Virginia      1775156     54  2022\n",
       "50      Wisconsin      5892539     55  2022\n",
       "51        Wyoming       581381     56  2022\n",
       "\n",
       "[612 rows x 4 columns]"
      ]
     },
     "execution_count": 53,
     "metadata": {},
     "output_type": "execute_result"
    }
   ],
   "source": [
    "pop"
   ]
  },
  {
   "cell_type": "code",
   "execution_count": 54,
   "id": "1482ca61",
   "metadata": {},
   "outputs": [],
   "source": [
    "pop = pop[pop[\"State\"] != \"NAME\"]"
   ]
  },
  {
   "cell_type": "code",
   "execution_count": 55,
   "id": "5a556526",
   "metadata": {},
   "outputs": [],
   "source": [
    "pop = pop.drop(\"state\", axis = 1)"
   ]
  },
  {
   "cell_type": "code",
   "execution_count": 56,
   "id": "d0cdffc6",
   "metadata": {},
   "outputs": [],
   "source": [
    "population = pd.to_numeric(pop[\"Population\"])\n",
    "pop[\"Population\"] = population"
   ]
  },
  {
   "cell_type": "code",
   "execution_count": 57,
   "id": "cb426c94",
   "metadata": {},
   "outputs": [
    {
     "data": {
      "text/html": [
       "<div>\n",
       "<style scoped>\n",
       "    .dataframe tbody tr th:only-of-type {\n",
       "        vertical-align: middle;\n",
       "    }\n",
       "\n",
       "    .dataframe tbody tr th {\n",
       "        vertical-align: top;\n",
       "    }\n",
       "\n",
       "    .dataframe thead th {\n",
       "        text-align: right;\n",
       "    }\n",
       "</style>\n",
       "<table border=\"1\" class=\"dataframe\">\n",
       "  <thead>\n",
       "    <tr style=\"text-align: right;\">\n",
       "      <th></th>\n",
       "      <th>State</th>\n",
       "      <th>Population</th>\n",
       "      <th>Year</th>\n",
       "    </tr>\n",
       "  </thead>\n",
       "  <tbody>\n",
       "    <tr>\n",
       "      <th>1</th>\n",
       "      <td>Alabama</td>\n",
       "      <td>4785298</td>\n",
       "      <td>2010</td>\n",
       "    </tr>\n",
       "    <tr>\n",
       "      <th>2</th>\n",
       "      <td>Alaska</td>\n",
       "      <td>713985</td>\n",
       "      <td>2010</td>\n",
       "    </tr>\n",
       "    <tr>\n",
       "      <th>3</th>\n",
       "      <td>Arizona</td>\n",
       "      <td>6413737</td>\n",
       "      <td>2010</td>\n",
       "    </tr>\n",
       "    <tr>\n",
       "      <th>4</th>\n",
       "      <td>Arkansas</td>\n",
       "      <td>2921606</td>\n",
       "      <td>2010</td>\n",
       "    </tr>\n",
       "    <tr>\n",
       "      <th>5</th>\n",
       "      <td>California</td>\n",
       "      <td>37349363</td>\n",
       "      <td>2010</td>\n",
       "    </tr>\n",
       "    <tr>\n",
       "      <th>...</th>\n",
       "      <td>...</td>\n",
       "      <td>...</td>\n",
       "      <td>...</td>\n",
       "    </tr>\n",
       "    <tr>\n",
       "      <th>47</th>\n",
       "      <td>Virginia</td>\n",
       "      <td>8683619</td>\n",
       "      <td>2022</td>\n",
       "    </tr>\n",
       "    <tr>\n",
       "      <th>48</th>\n",
       "      <td>Washington</td>\n",
       "      <td>7785786</td>\n",
       "      <td>2022</td>\n",
       "    </tr>\n",
       "    <tr>\n",
       "      <th>49</th>\n",
       "      <td>West Virginia</td>\n",
       "      <td>1775156</td>\n",
       "      <td>2022</td>\n",
       "    </tr>\n",
       "    <tr>\n",
       "      <th>50</th>\n",
       "      <td>Wisconsin</td>\n",
       "      <td>5892539</td>\n",
       "      <td>2022</td>\n",
       "    </tr>\n",
       "    <tr>\n",
       "      <th>51</th>\n",
       "      <td>Wyoming</td>\n",
       "      <td>581381</td>\n",
       "      <td>2022</td>\n",
       "    </tr>\n",
       "  </tbody>\n",
       "</table>\n",
       "<p>600 rows × 3 columns</p>\n",
       "</div>"
      ],
      "text/plain": [
       "            State  Population  Year\n",
       "1         Alabama     4785298  2010\n",
       "2          Alaska      713985  2010\n",
       "3         Arizona     6413737  2010\n",
       "4        Arkansas     2921606  2010\n",
       "5      California    37349363  2010\n",
       "..            ...         ...   ...\n",
       "47       Virginia     8683619  2022\n",
       "48     Washington     7785786  2022\n",
       "49  West Virginia     1775156  2022\n",
       "50      Wisconsin     5892539  2022\n",
       "51        Wyoming      581381  2022\n",
       "\n",
       "[600 rows x 3 columns]"
      ]
     },
     "execution_count": 57,
     "metadata": {},
     "output_type": "execute_result"
    }
   ],
   "source": [
    "pop"
   ]
  },
  {
   "cell_type": "code",
   "execution_count": 58,
   "id": "d806ef65",
   "metadata": {},
   "outputs": [],
   "source": [
    "pop.to_csv(\"state_population.csv\", index = False)"
   ]
  },
  {
   "cell_type": "code",
   "execution_count": 30,
   "id": "92ae298d",
   "metadata": {},
   "outputs": [],
   "source": []
  },
  {
   "cell_type": "code",
   "execution_count": 59,
   "id": "254cedf4",
   "metadata": {},
   "outputs": [
    {
     "data": {
      "text/plain": [
       "'[[\"NAME\",\"B02001_001E\",\"state\"],\\n[\"Mississippi\",\"2992333\",\"28\"],\\n[\"Missouri\",\"6083672\",\"29\"],\\n[\"Montana\",\"1032949\",\"30\"],\\n[\"Nebraska\",\"1896190\",\"31\"],\\n[\"Nevada\",\"2890845\",\"32\"],\\n[\"New Hampshire\",\"1330608\",\"33\"],\\n[\"New Jersey\",\"8958013\",\"34\"],\\n[\"New Mexico\",\"2085109\",\"35\"],\\n[\"New York\",\"19795791\",\"36\"],\\n[\"North Carolina\",\"10042802\",\"37\"],\\n[\"North Dakota\",\"756928\",\"38\"],\\n[\"Ohio\",\"11613423\",\"39\"],\\n[\"Oklahoma\",\"3911338\",\"40\"],\\n[\"Oregon\",\"4028977\",\"41\"],\\n[\"Pennsylvania\",\"12802503\",\"42\"],\\n[\"Rhode Island\",\"1056298\",\"44\"],\\n[\"South Carolina\",\"4896146\",\"45\"],\\n[\"South Dakota\",\"858469\",\"46\"],\\n[\"Tennessee\",\"6600299\",\"47\"],\\n[\"Texas\",\"27469114\",\"48\"],\\n[\"Vermont\",\"626042\",\"50\"],\\n[\"Utah\",\"2995919\",\"49\"],\\n[\"Virginia\",\"8382993\",\"51\"],\\n[\"Washington\",\"7170351\",\"53\"],\\n[\"West Virginia\",\"1844128\",\"54\"],\\n[\"Wisconsin\",\"5771337\",\"55\"],\\n[\"Wyoming\",\"586107\",\"56\"],\\n[\"Puerto Rico\",\"3474182\",\"72\"],\\n[\"Alabama\",\"4858979\",\"01\"],\\n[\"Alaska\",\"738432\",\"02\"],\\n[\"Arizona\",\"6828065\",\"04\"],\\n[\"Arkansas\",\"2978204\",\"05\"],\\n[\"California\",\"39144818\",\"06\"],\\n[\"Colorado\",\"5456574\",\"08\"],\\n[\"Delaware\",\"945934\",\"10\"],\\n[\"District of Columbia\",\"672228\",\"11\"],\\n[\"Connecticut\",\"3590886\",\"09\"],\\n[\"Florida\",\"20271272\",\"12\"],\\n[\"Georgia\",\"10214860\",\"13\"],\\n[\"Idaho\",\"1654930\",\"16\"],\\n[\"Hawaii\",\"1431603\",\"15\"],\\n[\"Illinois\",\"12859995\",\"17\"],\\n[\"Indiana\",\"6619680\",\"18\"],\\n[\"Iowa\",\"3123899\",\"19\"],\\n[\"Kansas\",\"2911641\",\"20\"],\\n[\"Kentucky\",\"4425092\",\"21\"],\\n[\"Louisiana\",\"4670724\",\"22\"],\\n[\"Maine\",\"1329328\",\"23\"],\\n[\"Maryland\",\"6006401\",\"24\"],\\n[\"Massachusetts\",\"6794422\",\"25\"],\\n[\"Michigan\",\"9922576\",\"26\"],\\n[\"Minnesota\",\"5489594\",\"27\"]]'"
      ]
     },
     "execution_count": 59,
     "metadata": {},
     "output_type": "execute_result"
    }
   ],
   "source": [
    "contents"
   ]
  },
  {
   "cell_type": "code",
   "execution_count": null,
   "id": "c751199b",
   "metadata": {},
   "outputs": [],
   "source": []
  }
 ],
 "metadata": {
  "kernelspec": {
   "display_name": "Python 3.8",
   "language": "python",
   "name": "python3"
  },
  "language_info": {
   "codemirror_mode": {
    "name": "ipython",
    "version": 3
   },
   "file_extension": ".py",
   "mimetype": "text/x-python",
   "name": "python",
   "nbconvert_exporter": "python",
   "pygments_lexer": "ipython3",
   "version": "3.8.8"
  }
 },
 "nbformat": 4,
 "nbformat_minor": 5
}
