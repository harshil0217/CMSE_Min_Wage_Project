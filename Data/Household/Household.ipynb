{
 "cells": [
  {
   "cell_type": "code",
   "execution_count": 1,
   "id": "4228a088",
   "metadata": {},
   "outputs": [],
   "source": [
    "import pandas as pd\n",
    "import requests \n",
    "import numpy as np"
   ]
  },
  {
   "cell_type": "code",
   "execution_count": 68,
   "id": "f3186ce1",
   "metadata": {},
   "outputs": [],
   "source": [
    "house = pd.read_csv(\"Adjust.csv\")\n",
    "#house = house.dropna()\n",
    "house2 = pd.read_csv(\"Unadjust.csv\")\n",
    "#house2= house2.dropna()"
   ]
  },
  {
   "cell_type": "code",
   "execution_count": 69,
   "id": "6e8a7895",
   "metadata": {},
   "outputs": [
    {
     "name": "stdout",
     "output_type": "stream",
     "text": [
      "          State         Year   Income\n",
      "0       Alabama         2019  64010.0\n",
      "1        Alaska         2019  89290.0\n",
      "2       Arizona         2019  80500.0\n",
      "3      Arkansas         2019  62120.0\n",
      "4    California         2019  88960.0\n",
      "..          ...          ...      ...\n",
      "762         NaN  Unnamed: 13      NaN\n",
      "763         NaN  Unnamed: 13      NaN\n",
      "764         NaN  Unnamed: 13      NaN\n",
      "765         NaN  Unnamed: 13      NaN\n",
      "766         NaN  Unnamed: 13      NaN\n",
      "\n",
      "[767 rows x 3 columns]\n",
      "          State         Year   Income\n",
      "0       Alabama         2019  64010.0\n",
      "1        Alaska         2019  89290.0\n",
      "2       Arizona         2019  80500.0\n",
      "3      Arkansas         2019  62120.0\n",
      "4    California         2019  88960.0\n",
      "..          ...          ...      ...\n",
      "762         NaN  Unnamed: 13      NaN\n",
      "763         NaN  Unnamed: 13      NaN\n",
      "764         NaN  Unnamed: 13      NaN\n",
      "765         NaN  Unnamed: 13      NaN\n",
      "766         NaN  Unnamed: 13      NaN\n",
      "\n",
      "[767 rows x 3 columns]\n"
     ]
    }
   ],
   "source": [
    "df1 = df = pd.DataFrame({})\n",
    "#df.append[house.iloc[]]\n",
    "house.iloc[:,9]\n",
    "\n",
    "house = pd.melt(house, id_vars = [\"State\"], var_name = \"Year\", value_name = \"Adjusted Household Income\")\n",
    "print(house)\n",
    "house2 = pd.melt(house2, id_vars = [\"State\"], var_name = \"Year\", value_name = \"Unadjusted Household Income\")\n",
    "print(house)"
   ]
  },
  {
   "cell_type": "code",
   "execution_count": 72,
   "id": "8877790d",
   "metadata": {},
   "outputs": [
    {
     "name": "stdout",
     "output_type": "stream",
     "text": [
      "          State         Year   Income\n",
      "0       Alabama         2019  64010.0\n",
      "1        Alaska         2019  89290.0\n",
      "2       Arizona         2019  80500.0\n",
      "3      Arkansas         2019  62120.0\n",
      "4    California         2019  88960.0\n",
      "..          ...          ...      ...\n",
      "762         NaN  Unnamed: 13      NaN\n",
      "763         NaN  Unnamed: 13      NaN\n",
      "764         NaN  Unnamed: 13      NaN\n",
      "765         NaN  Unnamed: 13      NaN\n",
      "766         NaN  Unnamed: 13      NaN\n",
      "\n",
      "[767 rows x 3 columns]\n"
     ]
    }
   ],
   "source": [
    "house = house.reset_index(drop=True)\n",
    "print(house)"
   ]
  },
  {
   "cell_type": "code",
   "execution_count": 55,
   "id": "37f4be2b",
   "metadata": {},
   "outputs": [],
   "source": [
    "house.to_csv(\"Adjusted.csv\", index = False)\n",
    "house2.to_csv(\"Unadjusted.csv\", index = False)"
   ]
  },
  {
   "cell_type": "code",
   "execution_count": null,
   "id": "4ac350b6",
   "metadata": {},
   "outputs": [],
   "source": []
  }
 ],
 "metadata": {
  "kernelspec": {
   "display_name": "Python 3.8",
   "language": "python",
   "name": "python3"
  },
  "language_info": {
   "codemirror_mode": {
    "name": "ipython",
    "version": 3
   },
   "file_extension": ".py",
   "mimetype": "text/x-python",
   "name": "python",
   "nbconvert_exporter": "python",
   "pygments_lexer": "ipython3",
   "version": "3.8.8"
  }
 },
 "nbformat": 4,
 "nbformat_minor": 5
}
