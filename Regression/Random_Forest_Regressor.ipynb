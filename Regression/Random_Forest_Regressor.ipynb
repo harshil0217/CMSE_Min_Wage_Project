{
 "cells": [
  {
   "cell_type": "code",
   "execution_count": 8,
   "id": "be0cec39",
   "metadata": {},
   "outputs": [],
   "source": [
    "# initialize code on the notebook with these packages\n",
    "\n",
    "import pandas as pd\n",
    "from sklearn.model_selection import train_test_split\n",
    "from sklearn.metrics import mean_squared_error,r2_score\n",
    "from sklearn.ensemble import RandomForestRegressor"
   ]
  },
  {
   "cell_type": "code",
   "execution_count": 5,
   "id": "809ecbbb",
   "metadata": {},
   "outputs": [],
   "source": [
    "# import the dataset\n",
    "\n",
    "state_econ = pd.read_csv(\"../Data/state_econ.csv\")"
   ]
  },
  {
   "cell_type": "code",
   "execution_count": 6,
   "id": "ef1b6b2d",
   "metadata": {},
   "outputs": [],
   "source": [
    "#\n",
    "\n",
    "state_econ = state_econ.set_index([\"State\", \"Year\"])"
   ]
  },
  {
   "cell_type": "code",
   "execution_count": 7,
   "id": "7f9c2a39",
   "metadata": {},
   "outputs": [],
   "source": [
    "#\n",
    "\n",
    "state_econ = state_econ.drop([\"Population\", \"GDP (in millions USD)\", \"Unadjusted Household Income\"], axis = 1)"
   ]
  },
  {
   "cell_type": "code",
   "execution_count": null,
   "id": "59d3a9e7",
   "metadata": {},
   "outputs": [],
   "source": []
  }
 ],
 "metadata": {
  "kernelspec": {
   "display_name": "Python 3.10",
   "language": "python",
   "name": "python3.10"
  },
  "language_info": {
   "codemirror_mode": {
    "name": "ipython",
    "version": 3
   },
   "file_extension": ".py",
   "mimetype": "text/x-python",
   "name": "python",
   "nbconvert_exporter": "python",
   "pygments_lexer": "ipython3",
   "version": "3.10.12"
  }
 },
 "nbformat": 4,
 "nbformat_minor": 5
}
